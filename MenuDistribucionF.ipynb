{
 "cells": [
  {
   "cell_type": "markdown",
   "id": "d2733c92-5717-4d28-856d-e3f2b4167717",
   "metadata": {},
   "source": [
    "# 📘 Menú Principal – Distribuciones F de Fisher\n",
    "\n",
    "### Este menú te permite navegar fácilmente a los notebooks de cada integrante y consultar sus ejemplos sobre las Distribuciones F de Fisher .\n",
    "\n",
    "---\n",
    "\n",
    "## 🔹 Ejemplos de Abisai (1 a 3)\n",
    "\n",
    "- [Notebook de Abisai – Ejemplos 1 a 3](./ejemplos-abi.ipynb)\n",
    "\n",
    "---\n",
    "\n",
    "## 🔹 Ejemplos de Nicole (4 a 6)\n",
    "\n",
    "- [Notebook de Nicole – Ejemplos 4 a 6](./EjemplosNicole.ipynb)\n",
    "\n",
    "---\n",
    "\n",
    "## 🔹 Ejemplos de Alberto (7 a 9)\n",
    "\n",
    "- [Notebook de Alberto – Ejemplos 7 a 9](./EjemplosAlberto.ipynb)\n",
    "\n",
    "\n"
   ]
  },
  {
   "cell_type": "code",
   "execution_count": null,
   "id": "09776ebe-003a-4f2e-937c-122f2c3c3975",
   "metadata": {},
   "outputs": [],
   "source": []
  }
 ],
 "metadata": {
  "kernelspec": {
   "display_name": "Python 3 (ipykernel)",
   "language": "python",
   "name": "python3"
  },
  "language_info": {
   "codemirror_mode": {
    "name": "ipython",
    "version": 3
   },
   "file_extension": ".py",
   "mimetype": "text/x-python",
   "name": "python",
   "nbconvert_exporter": "python",
   "pygments_lexer": "ipython3",
   "version": "3.12.6"
  }
 },
 "nbformat": 4,
 "nbformat_minor": 5
}
