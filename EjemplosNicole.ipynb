{
 "cells": [
  {
   "cell_type": "markdown",
   "id": "26bbb690-911e-4113-a27e-dea791be1f1a",
   "metadata": {},
   "source": [
    "## Ejemplo 4\n",
    "[Ir a Ejemplo 5](#Ejemplo5) | [Ir a Ejemplo 6](#Ejemplo6) | [Menú principal](../MenuDistribucionF.ipynb)\n",
    "\n",
    "Fuente bibliográfica del ejercicio: Walpole. Myers. Myers, \"Probabilidad y Estadística para Ingeniería y Ciencias\", Novena edición, Capítulo 8, Ejercicio 8.64, pag. 261.\n",
    "https://bibliotecavirtualaserena.wordpress.com/wp-content/uploads/2017/05/libro_probabilidad-y-estadistica-para-ingenerc3ada-y-ciencias-ronald-e-walpole-mayers.pdf\n",
    "\n",
    "Si \\( S_{21} \\) y \\( S_{22} \\) representan las varianzas de muestras aleatorias independientes de tamaños \\( n_1 = 25 \\) y \\( n_2 = 31 \\), tomadas de poblaciones normales con varianzas \\( \\sigma_{21} = 10 \\) y \\( \\sigma_{22} = 15 \\), respectivamente, calcule \\( P\\left(\\frac{S_{21}}{S_{22}} > 1.26\\right) \\)."
   ]
  },
  {
   "cell_type": "code",
   "execution_count": 1,
   "id": "daf51afa-a984-4388-be22-f2a05a76aeb5",
   "metadata": {},
   "outputs": [
    {
     "name": "stdout",
     "output_type": "stream",
     "text": [
      "P(S1^2 / S2^2 > 1.26): 0.2718\n"
     ]
    }
   ],
   "source": [
    "import scipy.stats as stats\n",
    "\n",
    "# Grados de libertad\n",
    "df1 = 24  # n1 - 1\n",
    "df2 = 30  # n2 - 1\n",
    "\n",
    "# Valor F observado\n",
    "F_observado = 1.26\n",
    "\n",
    "# Calcular P(F <= 1.26)\n",
    "p_value = stats.f.cdf(F_observado, df1, df2)\n",
    "\n",
    "# Calcular P(F > 1.26)\n",
    "p_greater = 1 - p_value\n",
    "\n",
    "print(f\"P(S1^2 / S2^2 > 1.26): {p_greater:.4f}\")"
   ]
  },
  {
   "cell_type": "markdown",
   "id": "a5fde7bc-169d-4674-b738-0c9aa5c875c1",
   "metadata": {},
   "source": [
    "## Ejemplo 5\n",
    "\n",
    "[Ir a Ejemplo 4](#Ejemplo4) | [Ir a Ejemplo 6](#Ejemplo6) | [Menú principal](../MenuDistribucionF.ipynb)\n",
    "\n",
    "Fuente bibliográfica del ejercicio: Walpole. Myers. Myers, \"Probabilidad y Estadística para Ingeniería y Ciencias\", Novena edición, Capítulo 10, Ejercicio 10.67, pag. 369.\n",
    "https://bibliotecavirtualaserena.wordpress.com/wp-content/uploads/2017/05/libro_probabilidad-y-estadistica-para-ingenerc3ada-y-ciencias-ronald-e-walpole-mayers.pdf\n",
    "\n",
    "Se sabe que el contenido de los envases de un lubricante específico se distribuye normalmente con una varianza de 0.03 litros. Pruebe la hipótesis de que\n",
    "σ 2 = 0.03 contra la alternativa de que σ 2 ≠ 0.03 para la muestra aleatoria de 10 envases del ejercicio 10.23 de la página 356. Use un valor P en sus conclusiones"
   ]
  },
  {
   "cell_type": "code",
   "execution_count": 4,
   "id": "09f1c5d9-2da3-48d3-8aee-6cf762b4ead5",
   "metadata": {},
   "outputs": [
    {
     "name": "stdout",
     "output_type": "stream",
     "text": [
      "Estadístico F: 0.0083\n",
      "Valor P: 2.0000\n",
      "No rechazamos H0: no hay evidencia suficiente para afirmar que σ² ≠ 0.03.\n"
     ]
    }
   ],
   "source": [
    "import numpy as np\n",
    "import scipy.stats as stats\n",
    "\n",
    "# Datos de la muestra\n",
    "data = np.array([0.28, 0.30, 0.29, 0.31, 0.27, 0.32, 0.30, 0.28, 0.29, 0.31])\n",
    "\n",
    "# Calcular varianza muestral\n",
    "s2 = np.var(data, ddof=1)  # ddof=1 para varianza muestral\n",
    "\n",
    "# Parámetros\n",
    "sigma0_squared = 0.03\n",
    "n = len(data)\n",
    "\n",
    "# Estadístico F\n",
    "F = s2 / sigma0_squared\n",
    "\n",
    "# Grados de libertad\n",
    "df1 = n - 1  # Para el numerador\n",
    "df2 = n - 1  # Para el denominador\n",
    "\n",
    "# Valor P para la prueba bilateral\n",
    "p_value = 2 * (1 - stats.f.cdf(F, df1, df2))\n",
    "\n",
    "print(f\"Estadístico F: {F:.4f}\")\n",
    "print(f\"Valor P: {p_value:.4f}\")\n",
    "\n",
    "# Conclusiones\n",
    "if p_value < 0.05:\n",
    "    print(\"Rechazamos H0: hay evidencia suficiente para afirmar que σ² ≠ 0.03.\")\n",
    "else:\n",
    "    print(\"No rechazamos H0: no hay evidencia suficiente para afirmar que σ² ≠ 0.03.\")"
   ]
  },
  {
   "cell_type": "markdown",
   "id": "9700ebc6-97cb-499d-baa0-4852150048af",
   "metadata": {},
   "source": [
    "## Ejemplo 6\n",
    "\n",
    "[Ir a Ejemplo 4](#Ejemplo4) | [Ir a Ejemplo 5](#Ejemplo5) | [Menú principal](../MenuDistribucionF.ipynb)\n",
    "\n",
    "Fuente bibliográfica del ejercicio: Jay L. Devore, \"Probabilidad y Estadística para Ingeniería y Ciencias\", Séptima edición, Capítulo 9, Ejercicio 62, pag.364.\n",
    "https://intranetua.uantof.cl/facultades/csbasicas/matematicas/academicos/jreyes/DOCENCIA/APUNTES/APUNTES%20PDF/Probabilidad%20y%20Estadistica%20para%20Ingenieria%20y%20Ciencias%20-%20Jay%20Devore%20-%20Septima%20Edicion.pdf\n",
    "\n",
    "En un estudio de deficiencia de cobre en ganado, se determinaron los valores de cobre (μg Cu/100 ml de sangre) tanto para ganado apacentado en un área donde se sabe que existen anomalías bien definidas provocadas por molibdeno (valores de contenido del metal que exceden el rango normal de variación regional) y para ganado apacentado en área sin anómala. (“An Investigation into Copper Deficiency in Cattle in the Southern Pennines”, J. Agricultural Soc. Cambridge, 1972: 157-163), con el resultado $s_1$=21.5 (m=48) en la condición anómala y $s_2$=19.45 (n=45) para la condición no anómala. \n",
    "Pruebe en cuanto a igualdad contra desigualdad de varianzas de población a un nivel de significación de 0.10 utilizando el método del valor P."
   ]
  },
  {
   "cell_type": "code",
   "execution_count": 3,
   "id": "369ff4cc-db00-462a-a276-5f4397a1589f",
   "metadata": {},
   "outputs": [
    {
     "name": "stdout",
     "output_type": "stream",
     "text": [
      "Estadístico F calculado: 1.2219\n",
      "Valor P: 0.5046\n"
     ]
    }
   ],
   "source": [
    "import numpy as np\n",
    "import scipy.stats as stats\n",
    "\n",
    "# Datos\n",
    "s1 = 21.5\n",
    "s2 = 19.45\n",
    "n1 = 48\n",
    "n2 = 45\n",
    "\n",
    "# Calcular F\n",
    "F_calculado = (s1 ** 2) / (s2 ** 2)\n",
    "\n",
    "# Grados de libertad\n",
    "df1 = n1 - 1\n",
    "df2 = n2 - 1\n",
    "\n",
    "# Calcular el valor P\n",
    "p_value = 2 * (1 - stats.f.cdf(F_calculado, df1, df2))\n",
    "\n",
    "# Resultados\n",
    "print(f\"Estadístico F calculado: {F_calculado:.4f}\")\n",
    "print(f\"Valor P: {p_value:.4f}\")\n"
   ]
  }
 ],
 "metadata": {
  "kernelspec": {
   "display_name": "Python 3",
   "language": "python",
   "name": "python3"
  },
  "language_info": {
   "codemirror_mode": {
    "name": "ipython",
    "version": 3
   },
   "file_extension": ".py",
   "mimetype": "text/x-python",
   "name": "python",
   "nbconvert_exporter": "python",
   "pygments_lexer": "ipython3",
   "version": "3.13.3"
  }
 },
 "nbformat": 4,
 "nbformat_minor": 5
}
