{
 "cells": [
  {
   "cell_type": "markdown",
   "id": "26bbb690-911e-4113-a27e-dea791be1f1a",
   "metadata": {},
   "source": [
    "## Ejemplo 4\n",
    "[Ir a Ejemplo 5](#Ejemplo5) | [Ir a Ejemplo 6](#Ejemplo6) | [Menú principal](../MenuDistribucionF.ipynb)\n",
    "\n",
    "Fuente bibliográfica del ejercicio: Jay L. Devore, \"Probabilidad y Estadística para Ingeniería y Ciencias\", Séptima edición, Capítulo 9, Ejercicio 57\n",
    "\n",
    "Obtenga o calcule las siguientes cantidades:\n",
    "a. $F_0.05,5,8$    \n",
    "\n",
    "b. $F_0.05,8,5$    \n",
    "\n",
    "c. $F_0.95,5,8$    \n",
    "\n",
    "d. $F_0.95,8,5$ \n",
    "\n",
    "e. El percentil 99 de la distribución F con $v_1$=10, $v_2$=12\n",
    "\n",
    "f. El percentil uno de la distribución F con $v_1$=10, $v_2$=12\n",
    "\n",
    "g. P(F < 6.16) para $v_1$=6, $v_2$=4\n",
    "\n",
    "h. P(0.177 < F < 4.74) para $v_1$=10, $v_2$=5"
   ]
  },
  {
   "cell_type": "code",
   "execution_count": 4,
   "id": "daf51afa-a984-4388-be22-f2a05a76aeb5",
   "metadata": {},
   "outputs": [
    {
     "name": "stdout",
     "output_type": "stream",
     "text": [
      "Percentil 5: 0.2075\n",
      "Percentil 95: 3.6875\n",
      "Percentil 95 (v1=8, v2=5): 4.8183\n",
      "Percentil 95 (v1=8, v2=5): 4.8183\n",
      "P(F <= 6.16): 0.9500\n",
      "P(0.177 <= F <= 4.74): 0.9402\n"
     ]
    }
   ],
   "source": [
    "import scipy.stats as stats\n",
    "\n",
    "# a. F_0.05,5,8\n",
    "percentil_5 = stats.f.ppf(0.05, 5, 8)\n",
    "print(f\"Percentil 5: {percentil_5:.4f}\")\n",
    "\n",
    "# b. F_0.95,5,8\n",
    "percentil_95 = stats.f.ppf(0.95, 5, 8)\n",
    "print(f\"Percentil 95: {percentil_95:.4f}\")\n",
    "\n",
    "# c. F_0.95,8,5\n",
    "percentil_95_invertido = stats.f.ppf(0.95, 8, 5)\n",
    "print(f\"Percentil 95 (v1=8, v2=5): {percentil_95_invertido:.4f}\")\n",
    "\n",
    "# d. Repetido\n",
    "print(f\"Percentil 95 (v1=8, v2=5): {percentil_95_invertido:.4f}\")\n",
    "\n",
    "# e. P(F <= 6.16) para v1 = 6, v2 = 4\n",
    "p_value = stats.f.cdf(6.16, 6, 4)\n",
    "print(f\"P(F <= 6.16): {p_value:.4f}\")\n",
    "\n",
    "# f. P(0.177 <= F <= 4.74) para v1 = 10, v2 = 5\n",
    "p_value_range = stats.f.cdf(4.74, 10, 5) - stats.f.cdf(0.177, 10, 5)\n",
    "print(f\"P(0.177 <= F <= 4.74): {p_value_range:.4f}\")"
   ]
  },
  {
   "cell_type": "markdown",
   "id": "a5fde7bc-169d-4674-b738-0c9aa5c875c1",
   "metadata": {},
   "source": [
    "## Ejemplo 5\n",
    "\n",
    "[Ir a Ejemplo 4](#Ejemplo4) | [Ir a Ejemplo 6](#Ejemplo6) | [Menú principal](../MenuDistribucionF.ipynb)\n",
    "\n",
    "Fuente bibliográfica del ejercicio: Jay L. Devore, \"Probabilidad y Estadística para Ingeniería y Ciencias\", Séptima edición, Capítulo 9, Ejercicio 58\n",
    "\n",
    "Dé tanta información como pueda sobre el valor P de la prueba F en cada una de las siguientes situaciones:\n",
    "\n",
    "a. $v_1$=5, $v_2$=10, prueba de cola superior, f=4.75\n",
    "\n",
    "b. $v_1$=5, $v_2$=10, prueba de cola superior, f=2.00\n",
    "\n",
    "c. $v_1$=5, $v_2$=10, prueba de dos colas, f=5.64\n",
    "\n",
    "d. $v_1$=5, $v_2$=10, prueba de cola inferior, f=0.200\n",
    "\n",
    "e. $v_1$=35, $v_2$=20, prueba de cola superior, f=3.24"
   ]
  },
  {
   "cell_type": "code",
   "execution_count": 5,
   "id": "09f1c5d9-2da3-48d3-8aee-6cf762b4ead5",
   "metadata": {},
   "outputs": [
    {
     "name": "stdout",
     "output_type": "stream",
     "text": [
      "v1: 5, v2: 10, F: 4.75, Valor P: 0.0175\n",
      "v1: 5, v2: 10, F: 2.0, Valor P: 0.1642\n",
      "v1: 5, v2: 10, F: 5.64, Valor P: 0.0200\n",
      "v1: 5, v2: 10, F: 0.2, Valor P: 0.0448\n",
      "v1: 35, v2: 20, F: 3.24, Valor P: 0.0035\n"
     ]
    }
   ],
   "source": [
    "import scipy.stats as stats\n",
    "\n",
    "# Definir los grados de libertad y los valores F\n",
    "situaciones = [\n",
    "    (5, 10, 4.75, 'superior'),\n",
    "    (5, 10, 2.00, 'superior'),\n",
    "    (5, 10, 5.64, 'dos colas'),\n",
    "    (5, 10, 0.200, 'inferior'),\n",
    "    (35, 20, 3.24, 'superior'),\n",
    "]\n",
    "\n",
    "# Calcular y mostrar los valores P\n",
    "for v1, v2, F, tipo in situaciones:\n",
    "    if tipo == 'superior':\n",
    "        P = 1 - stats.f.cdf(F, v1, v2)\n",
    "    elif tipo == 'inferior':\n",
    "        P = stats.f.cdf(F, v1, v2)\n",
    "    elif tipo == 'dos colas':\n",
    "        P = 2 * (1 - stats.f.cdf(F, v1, v2))\n",
    "    \n",
    "    print(f\"v1: {v1}, v2: {v2}, F: {F}, Valor P: {P:.4f}\")"
   ]
  },
  {
   "cell_type": "markdown",
   "id": "9700ebc6-97cb-499d-baa0-4852150048af",
   "metadata": {},
   "source": [
    "## Ejemplo 6\n",
    "\n",
    "[Ir a Ejemplo 4](#Ejemplo4) | [Ir a Ejemplo 5](#Ejemplo5) | [Menú principal](../MenuDistribucionF.ipynb)\n",
    "\n",
    "Fuente bibliográfica del ejercicio: Jay L. Devore, \"Probabilidad y Estadística para Ingeniería y Ciencias\", Séptima edición, Capítulo 9, Ejercicio 62\n",
    "\n",
    "En un estudio de deficiencia de cobre en ganado, se determinaron los valores de cobre (μg Cu/100 ml de sangre) tanto para ganado apacentado en un área donde se sabe que existen anomalías bien definidas provocadas por molibdeno (valores de contenido del metal que exceden el rango normal de variación regional) y para ganado apacentado en área sin anómala. (“An Investigation into Copper Deficiency in Cattle in the Southern Pennines”, J. Agricultural Soc. Cambridge, 1972: 157-163), con el resultado $s_1$=21.5 (m=48) en la condición anómala y $s_2$=19.45 (n=45) para la condición no anómala. \n",
    "Pruebe en cuanto a igualdad contra desigualdad de varianzas de población a un nivel de significación de 0.10 utilizando el método del valor P."
   ]
  },
  {
   "cell_type": "code",
   "execution_count": 3,
   "id": "369ff4cc-db00-462a-a276-5f4397a1589f",
   "metadata": {},
   "outputs": [
    {
     "name": "stdout",
     "output_type": "stream",
     "text": [
      "Estadístico F calculado: 1.2219\n",
      "Valor P: 0.5046\n"
     ]
    }
   ],
   "source": [
    "import numpy as np\n",
    "import scipy.stats as stats\n",
    "\n",
    "# Datos\n",
    "s1 = 21.5\n",
    "s2 = 19.45\n",
    "n1 = 48\n",
    "n2 = 45\n",
    "\n",
    "# Calcular F\n",
    "F_calculado = (s1 ** 2) / (s2 ** 2)\n",
    "\n",
    "# Grados de libertad\n",
    "df1 = n1 - 1\n",
    "df2 = n2 - 1\n",
    "\n",
    "# Calcular el valor P\n",
    "p_value = 2 * (1 - stats.f.cdf(F_calculado, df1, df2))\n",
    "\n",
    "# Resultados\n",
    "print(f\"Estadístico F calculado: {F_calculado:.4f}\")\n",
    "print(f\"Valor P: {p_value:.4f}\")\n"
   ]
  }
 ],
 "metadata": {
  "kernelspec": {
   "display_name": "Python 3",
   "language": "python",
   "name": "python3"
  },
  "language_info": {
   "codemirror_mode": {
    "name": "ipython",
    "version": 3
   },
   "file_extension": ".py",
   "mimetype": "text/x-python",
   "name": "python",
   "nbconvert_exporter": "python",
   "pygments_lexer": "ipython3",
   "version": "3.13.3"
  }
 },
 "nbformat": 4,
 "nbformat_minor": 5
}
