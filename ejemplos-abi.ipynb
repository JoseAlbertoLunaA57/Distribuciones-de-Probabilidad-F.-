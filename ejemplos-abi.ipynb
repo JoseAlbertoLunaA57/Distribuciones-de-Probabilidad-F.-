{
 "cells": [
  {
   "cell_type": "markdown",
   "id": "5b55ef62",
   "metadata": {},
   "source": [
    "# Ejemplos de Distribución F"
   ]
  },
  {
   "cell_type": "markdown",
   "id": "5612fba0",
   "metadata": {},
   "source": [
    "## Ejercicio 1\n",
    "\n",
    "Una empresa de transporte ofrece servicios desde una escuela hasta Soriante, el dueño de la empresa, está considerando dos rutas. Una vía Federico del Toro y la otra vía Moctezuma. Desea estudiar el tiempo necesario para llegar a Soriante por cada uno de estos caminos y después comparar los resultados. Obtuvo los siguientes datos de muestra (en minutos). Uiliza el nivel de significancia de 0.01, cexiste alguna diferencia en la variación de los tiempos de recorrido por ambas rutas?\n",
    "\n",
    "Link del prblema:https://www.youtube.com/watch?v=9of3EhS2tdI\n"
   ]
  },
  {
   "cell_type": "code",
   "execution_count": 4,
   "id": "73d882fd",
   "metadata": {},
   "outputs": [
    {
     "name": "stdout",
     "output_type": "stream",
     "text": [
      "   Vía Fed del Toro  Vía Moctezuma\n",
      "1              52.0             59\n",
      "2              67.0             60\n",
      "3              56.0             61\n",
      "4              45.0             51\n",
      "5              70.0             56\n",
      "6              54.0             63\n",
      "7              64.0             57\n",
      "8               NaN             65\n"
     ]
    }
   ],
   "source": [
    "import pandas as pd\n",
    "\n",
    "# Datos\n",
    "datos = {\n",
    "    \"Vía Fed del Toro\": [52, 67, 56, 45, 70, 54, 64, None],\n",
    "    \"Vía Moctezuma\":    [59, 60, 61, 51, 56, 63, 57, 65]\n",
    "}\n",
    "\n",
    "# Crear DataFrame\n",
    "df = pd.DataFrame(datos)\n",
    "\n",
    "# Agregar número de fila como índice iniciando en 1\n",
    "df.index = range(1, len(df) + 1)\n",
    "\n",
    "# Mostrar tabla\n",
    "print(df)"
   ]
  },
  {
   "cell_type": "code",
   "execution_count": 5,
   "id": "73b2a207",
   "metadata": {},
   "outputs": [
    {
     "name": "stdout",
     "output_type": "stream",
     "text": [
      "Varianza ruta Fed del Toro: 80.9\n",
      "Varianza ruta Moctezuma: 19.14\n",
      "Estadístico F: 4.2264\n",
      "F crítico inferior: 0.1092\n",
      "F crítico superior: 10.7859\n",
      "No se rechaza H0: no hay diferencia significativa en la variabilidad.\n"
     ]
    }
   ],
   "source": [
    "import numpy as np\n",
    "from scipy.stats import f\n",
    "\n",
    "# Datos\n",
    "fed_del_toro = [52, 67, 56, 45, 70, 54, 64]\n",
    "moctezuma =   [59, 60, 61, 51, 56, 63, 57, 65]\n",
    "\n",
    "# Tamaños de muestra\n",
    "n1 = len(fed_del_toro)\n",
    "n2 = len(moctezuma)\n",
    "\n",
    "# Varianzas muestrales\n",
    "s1_2 = np.var(fed_del_toro, ddof=1)\n",
    "s2_2 = np.var(moctezuma, ddof=1)\n",
    "\n",
    "# Prueba F: Mayor varianza / Menor varianza\n",
    "F = max(s1_2, s2_2) / min(s1_2, s2_2)\n",
    "\n",
    "# Grados de libertad\n",
    "df1 = max(n1 - 1, n2 - 1)\n",
    "df2 = min(n1 - 1, n2 - 1)\n",
    "\n",
    "# Nivel de significancia\n",
    "alpha = 0.01\n",
    "\n",
    "# Valores críticos (dos colas)\n",
    "F_crit_upper = f.ppf(1 - alpha/2, df1, df2)\n",
    "F_crit_lower = f.ppf(alpha/2, df1, df2)\n",
    "\n",
    "# Resultados\n",
    "print(\"Varianza ruta Fed del Toro:\", round(s1_2, 2))\n",
    "print(\"Varianza ruta Moctezuma:\", round(s2_2, 2))\n",
    "print(\"Estadístico F:\", round(F, 4))\n",
    "print(\"F crítico inferior:\", round(F_crit_lower, 4))\n",
    "print(\"F crítico superior:\", round(F_crit_upper, 4))\n",
    "\n",
    "# Decisión\n",
    "if F > F_crit_upper or F < F_crit_lower:\n",
    "    print(\"Se rechaza H0: hay diferencia significativa en la variabilidad de los tiempos.\")\n",
    "else:\n",
    "    print(\"No se rechaza H0: no hay diferencia significativa en la variabilidad.\")"
   ]
  },
  {
   "cell_type": "markdown",
   "id": "2855664e",
   "metadata": {},
   "source": [
    "## Ejercicio 2\n",
    "\n",
    "\n",
    "Se desea conocer el valor de \n",
    "F_{(0.95, 19, 24)} = F_{(0.95, 19, 24)} = \\frac{1}{F_{(0.05, 24, 19)}}\n",
    "Link: http://www.iqcelaya.itc.mx/~roosph/pye/u4/eu4t8.pdf\n",
    "Pagina 2"
   ]
  },
  {
   "cell_type": "code",
   "execution_count": 6,
   "id": "828a7e5f",
   "metadata": {},
   "outputs": [
    {
     "name": "stdout",
     "output_type": "stream",
     "text": [
      "F(0.95, 19, 24) = 2.0399\n"
     ]
    }
   ],
   "source": [
    "import scipy.stats as stats\n",
    "\n",
    "# Valores dados\n",
    "alpha = 0.05\n",
    "d1 = 19\n",
    "d2 = 24\n",
    "\n",
    "# Usamos la propiedad de reciprocidad\n",
    "F_0_95 = 1 / stats.f.ppf(alpha, d2, d1)\n",
    "\n",
    "print(\"F(0.95, 19, 24) =\", round(F_0_95, 4))"
   ]
  },
  {
   "cell_type": "markdown",
   "id": "1d52fe8d",
   "metadata": {},
   "source": [
    "### Ejemplo 3\n",
    "\n",
    "Una compañía fabrica propulsores para uso en motores de turbina. Al ingeniero de manufactura le gustaría seleccionar el proceso que tenga la menor variabilidad en la rugosidad de la superficie. Para ello toma una muestra de n1=16 partes del primer proceso, la cual tiene una desviación estándar s₁ = 4.7 micropulgadas, y una muestra aleatoria de n2=12 partes del segundo proceso, la cual tiene una desviación estándar s2 = 5.1 micropulgadas. Se desea encontrar un intervalo de confianza del 90% para el cociente de las dos varianzas12/\n",
    "\n",
    "Suponga que los dos procesos son independientes y que la rugosidad de la superficie está distribuida de manera normal.\n",
    "\n",
    "Link: https://es.scribd.com/doc/256836361/Ejersicios-resueltos-F-fisher\n",
    "Pagina 6"
   ]
  },
  {
   "cell_type": "code",
   "execution_count": 7,
   "id": "4a6ad6c9",
   "metadata": {},
   "outputs": [
    {
     "name": "stdout",
     "output_type": "stream",
     "text": [
      "Cociente de varianzas muestrales (s1^2 / s2^2): 0.8493\n",
      "Intervalo de confianza del 90% para σ₁² / σ₂²:\n",
      "LI = 0.3124\n",
      "LS = 2.129\n"
     ]
    }
   ],
   "source": [
    "import scipy.stats as stats\n",
    "\n",
    "# Datos\n",
    "n1 = 16\n",
    "s1 = 4.7\n",
    "n2 = 12\n",
    "s2 = 5.1\n",
    "\n",
    "# Varianzas muestrales\n",
    "var1 = s1**2\n",
    "var2 = s2**2\n",
    "\n",
    "# Cociente de varianzas muestrales\n",
    "F0 = var1 / var2\n",
    "\n",
    "# Grados de libertad\n",
    "df1 = n1 - 1\n",
    "df2 = n2 - 1\n",
    "\n",
    "# Nivel de confianza\n",
    "alpha = 0.10\n",
    "\n",
    "# Valores críticos F (dos colas)\n",
    "F_izq = stats.f.ppf(alpha / 2, df1, df2)\n",
    "F_der = stats.f.ppf(1 - alpha / 2, df1, df2)\n",
    "\n",
    "# Intervalo de confianza para sigma1^2 / sigma2^2\n",
    "LI = F0 / F_der\n",
    "LS = F0 / F_izq\n",
    "\n",
    "# Resultados\n",
    "print(\"Cociente de varianzas muestrales (s1^2 / s2^2):\", round(F0, 4))\n",
    "print(f\"Intervalo de confianza del 90% para σ₁² / σ₂²:\")\n",
    "print(f\"LI = {round(LI, 4)}\")\n",
    "print(f\"LS = {round(LS, 4)}\")"
   ]
  },
  {
   "cell_type": "markdown",
   "id": "0df543f7",
   "metadata": {},
   "source": [
    "[Menú principal](./MenuDistribucionF.ipynb)"
   ]
  }
 ],
 "metadata": {
  "kernelspec": {
   "display_name": "Python 3",
   "language": "python",
   "name": "python3"
  },
  "language_info": {
   "codemirror_mode": {
    "name": "ipython",
    "version": 3
   },
   "file_extension": ".py",
   "mimetype": "text/x-python",
   "name": "python",
   "nbconvert_exporter": "python",
   "pygments_lexer": "ipython3",
   "version": "3.13.4"
  }
 },
 "nbformat": 4,
 "nbformat_minor": 5
}
