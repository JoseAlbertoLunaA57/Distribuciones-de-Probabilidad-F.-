{
 "cells": [
  {
   "cell_type": "markdown",
   "id": "5b55ef62",
   "metadata": {},
   "source": [
    "# Ejemplos de Distribución F\n",
    "\n",
    "1. Nombre del libro: Probabilidad y estadística para ingeniería y ciencias.\n",
    "2. Pagina del libro: 260\n",
    "3. link del libro: https://bibliotecavirtualaserena.wordpress.com/wp-content/uploads/2017/05/libro_probabilidad-y-estadistica-para-ingenerc3ada-y-ciencias-ronald-e-walpole-mayers.pdf"
   ]
  },
  {
   "cell_type": "markdown",
   "id": "5612fba0",
   "metadata": {},
   "source": [
    "## Ejemplo 1\n",
    "\n",
    "\n",
    "Se nos pide calcular los valores críticos de la distribución F para diferentes grados de libertad y niveles de significancia. Los cálculos requeridos son los siguientes:\n",
    "\n",
    "a) f_{0.05} con v_1 = 7 y v_2 = 15\n",
    "\n",
    "b) f_{0.05} con v_1 = 15 y v_2 = 7\n",
    "\n",
    "c) $$ f_{0.01} con v_1 = 24 y v_2 = 19\n",
    "\n",
    "d) $$ f_{0.95} con v_1 = 19 y v_2 = 24\n",
    "\n",
    "e) \\( f_{0\n"
   ]
  },
  {
   "cell_type": "code",
   "execution_count": 8,
   "id": "73d882fd",
   "metadata": {},
   "outputs": [
    {
     "name": "stdout",
     "output_type": "stream",
     "text": [
      "f_0.05 (7, 15): 0.2848\n",
      "f_0.05 (15, 7): 0.3695\n",
      "f_0.01 (24, 19): 0.3620\n",
      "f_0.95 (19, 24): 2.0399\n",
      "f_0.99 (28, 12): 3.7237\n"
     ]
    }
   ],
   "source": [
    "import scipy.stats as stats\n",
    "\n",
    "# Datos del problema\n",
    "v1_a, v2_a = 7, 15\n",
    "v1_b, v2_b = 15, 7\n",
    "v1_c, v2_c = 24, 19\n",
    "v1_d, v2_d = 19, 24\n",
    "v1_e, v2_e = 28, 12\n",
    "\n",
    "# Cálculo de los valores críticos para la distribución F\n",
    "f_0_05_a = stats.f.ppf(0.05, v1_a, v2_a)\n",
    "f_0_05_b = stats.f.ppf(0.05, v1_b, v2_b)\n",
    "f_0_01_c = stats.f.ppf(0.01, v1_c, v2_c)\n",
    "f_0_95_d = stats.f.ppf(0.95, v1_d, v2_d)\n",
    "f_0_99_e = stats.f.ppf(0.99, v1_e, v2_e)\n",
    "\n",
    "# Resultados\n",
    "results = {\n",
    "    \"f_0.05 (7, 15)\": f_0_05_a,\n",
    "    \"f_0.05 (15, 7)\": f_0_05_b,\n",
    "    \"f_0.01 (24, 19)\": f_0_01_c,\n",
    "    \"f_0.95 (19, 24)\": f_0_95_d,\n",
    "    \"f_0.99 (28, 12)\": f_0_99_e\n",
    "}\n",
    "\n",
    "# Imprimir resultados\n",
    "for key, value in results.items():\n",
    "    print(f\"{key}: {value:.4f}\")\n"
   ]
  },
  {
   "cell_type": "markdown",
   "id": "2855664e",
   "metadata": {},
   "source": [
    "## Ejemplo 2\n",
    "\n",
    "\n",
    "Se presentan datos sobre la capacidad de producción de calor del carbón (en millones de calorías por tonelada) de dos minas:\n",
    "\n",
    "- **Mina 1**: 8260, 8130, 8350, 8070, 8340  \n",
    "- **Mina 2**: 7950, 7890, 7900, 8140, 7920, 7840  \n",
    "\n",
    "¿Se puede concluir que las dos varianzas de población son iguales?  \n",
    "Suponga una distribución normal.  \n",
    "Use una prueba F con un nivel de significancia común (por ejemplo, 0.05)."
   ]
  },
  {
   "cell_type": "code",
   "execution_count": 10,
   "id": "828a7e5f",
   "metadata": {},
   "outputs": [
    {
     "name": "stdout",
     "output_type": "stream",
     "text": [
      "Varianza muestra 1: 15750.0\n",
      "Varianza muestra 2: 10920.0\n",
      "Estadístico F: 1.4423\n",
      "Valores críticos F: [0.1068, 7.3879]\n",
      "No se rechaza la hipótesis nula: No hay evidencia suficiente para decir que las varianzas son diferentes.\n"
     ]
    }
   ],
   "source": [
    "import numpy as np\n",
    "from scipy.stats import f\n",
    "\n",
    "# Datos de las minas\n",
    "mina1 = np.array([8260, 8130, 8350, 8070, 8340])\n",
    "mina2 = np.array([7950, 7890, 7900, 8140, 7920, 7840])\n",
    "\n",
    "# Tamaños de muestra\n",
    "n1 = len(mina1)\n",
    "n2 = len(mina2)\n",
    "\n",
    "# Varianzas muestrales\n",
    "var1 = np.var(mina1, ddof=1)\n",
    "var2 = np.var(mina2, ddof=1)\n",
    "\n",
    "# Estadístico F (mayor varianza entre menor)\n",
    "F = var1 / var2 if var1 > var2 else var2 / var1\n",
    "\n",
    "# Grados de libertad\n",
    "df1 = n1 - 1\n",
    "df2 = n2 - 1\n",
    "\n",
    "# Nivel de significancia\n",
    "alpha = 0.05\n",
    "\n",
    "# Valores críticos para prueba bilateral\n",
    "f_crit_low = f.ppf(alpha / 2, df1, df2)\n",
    "f_crit_high = f.ppf(1 - alpha / 2, df1, df2)\n",
    "\n",
    "# Resultado\n",
    "print(\"Varianza muestra 1:\", round(var1, 2))\n",
    "print(\"Varianza muestra 2:\", round(var2, 2))\n",
    "print(\"Estadístico F:\", round(F, 4))\n",
    "print(f\"Valores críticos F: [{round(f_crit_low, 4)}, {round(f_crit_high, 4)}]\")\n",
    "\n",
    "# Conclusión\n",
    "if F < f_crit_low or F > f_crit_high:\n",
    "    print(\"Se rechaza la hipótesis nula: Las varianzas son diferentes.\")\n",
    "else:\n",
    "    print(\"No se rechaza la hipótesis nula: No hay evidencia suficiente para decir que las varianzas son diferentes.\")"
   ]
  },
  {
   "cell_type": "markdown",
   "id": "1d52fe8d",
   "metadata": {},
   "source": [
    "### Ejemplo 3\n",
    "\n",
    "\n",
    "Si \\( S_1^2 \\) y \\( S_2^2 \\) representan las varianzas de muestras aleatorias independientes de tamaños \\( n_1 = 8 \\) y \\( n_2 = 12 \\), tomadas de poblaciones normales con varianzas iguales, calcule:\n",
    "\n",
    "\\[\n",
    "P\\left( \\frac{S_1^2}{S_2^2} < 4.89 \\right)\n",
    "\\]\n",
    "\n",
    "Asuma que la razón de varianzas sigue una distribución F con grados de libertad \\( v_1 = 7 \\) y \\( v_2 = 11 \\)."
   ]
  },
  {
   "cell_type": "code",
   "execution_count": 11,
   "id": "4a6ad6c9",
   "metadata": {},
   "outputs": [
    {
     "name": "stdout",
     "output_type": "stream",
     "text": [
      "P(S1^2 / S2^2 < 4.89) = 0.99\n"
     ]
    }
   ],
   "source": [
    "from scipy.stats import f\n",
    "\n",
    "# Grados de libertad\n",
    "v1 = 8 - 1  # n1 - 1\n",
    "v2 = 12 - 1  # n2 - 1\n",
    "\n",
    "# Valor de F dado\n",
    "F_val = 4.89\n",
    "\n",
    "# Calculamos la probabilidad acumulada hasta F_val\n",
    "prob = f.cdf(F_val, v1, v2)\n",
    "\n",
    "# Resultado\n",
    "print(f\"P(S1^2 / S2^2 < 4.89) = {round(prob, 4)}\")"
   ]
  },
  {
   "cell_type": "markdown",
   "id": "0df543f7",
   "metadata": {},
   "source": [
    "[Menú principal](./MenuDistribucionF.ipynb)"
   ]
  }
 ],
 "metadata": {
  "kernelspec": {
   "display_name": "Python 3",
   "language": "python",
   "name": "python3"
  },
  "language_info": {
   "codemirror_mode": {
    "name": "ipython",
    "version": 3
   },
   "file_extension": ".py",
   "mimetype": "text/x-python",
   "name": "python",
   "nbconvert_exporter": "python",
   "pygments_lexer": "ipython3",
   "version": "3.13.4"
  }
 },
 "nbformat": 4,
 "nbformat_minor": 5
}
